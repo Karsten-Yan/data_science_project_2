{
 "cells": [
  {
   "cell_type": "code",
   "execution_count": 1,
   "metadata": {
    "ExecuteTime": {
     "end_time": "2020-03-28T15:56:09.779620Z",
     "start_time": "2020-03-28T15:56:08.670368Z"
    }
   },
   "outputs": [],
   "source": [
    "import requests\n",
    "import pandas as pd\n",
    "import re\n",
    "from bs4 import BeautifulSoup\n",
    "from datetime import date"
   ]
  },
  {
   "cell_type": "code",
   "execution_count": 2,
   "metadata": {
    "ExecuteTime": {
     "end_time": "2020-03-28T15:56:10.097692Z",
     "start_time": "2020-03-28T15:56:09.783621Z"
    }
   },
   "outputs": [],
   "source": [
    "df = pd.read_csv(\"data/dflive.csv\",index_col=0)"
   ]
  },
  {
   "cell_type": "code",
   "execution_count": 22,
   "metadata": {
    "ExecuteTime": {
     "end_time": "2020-03-28T18:50:19.881653Z",
     "start_time": "2020-03-28T16:05:50.687702Z"
    }
   },
   "outputs": [],
   "source": [
    "state = []\n",
    "for elm in df.urls:\n",
    "    url = eval(elm)[\"web\"][\"project\"]\n",
    "    page = requests.get(url)\n",
    "    soup = BeautifulSoup(page.content, 'html.parser')\n",
    "    if soup.find(\"section\", attrs={'data-project-state':'failed'}):\n",
    "        state.append(\"failed\")\n",
    "    else: \n",
    "        state.append(\"succesful\")\n",
    "    #print(pr_state)\n",
    "    #state.append(results[1][\"data-project-state\"])"
   ]
  },
  {
   "cell_type": "code",
   "execution_count": 28,
   "metadata": {
    "ExecuteTime": {
     "end_time": "2020-03-29T00:02:01.035218Z",
     "start_time": "2020-03-29T00:02:01.032217Z"
    }
   },
   "outputs": [],
   "source": [
    "live_state = pd.DataFrame(state)"
   ]
  },
  {
   "cell_type": "code",
   "execution_count": 30,
   "metadata": {
    "ExecuteTime": {
     "end_time": "2020-03-29T00:02:35.010181Z",
     "start_time": "2020-03-29T00:02:34.996178Z"
    }
   },
   "outputs": [],
   "source": [
    "live_state.to_csv(\"data/y_state.csv\")"
   ]
  },
  {
   "cell_type": "code",
   "execution_count": null,
   "metadata": {},
   "outputs": [],
   "source": []
  }
 ],
 "metadata": {
  "kernelspec": {
   "display_name": "Python 3",
   "language": "python",
   "name": "python3"
  },
  "language_info": {
   "codemirror_mode": {
    "name": "ipython",
    "version": 3
   },
   "file_extension": ".py",
   "mimetype": "text/x-python",
   "name": "python",
   "nbconvert_exporter": "python",
   "pygments_lexer": "ipython3",
   "version": "3.7.6"
  },
  "toc": {
   "base_numbering": 1,
   "nav_menu": {},
   "number_sections": true,
   "sideBar": true,
   "skip_h1_title": false,
   "title_cell": "Table of Contents",
   "title_sidebar": "Contents",
   "toc_cell": false,
   "toc_position": {},
   "toc_section_display": true,
   "toc_window_display": false
  }
 },
 "nbformat": 4,
 "nbformat_minor": 4
}
